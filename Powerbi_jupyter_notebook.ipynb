{
 "cells": [
  {
   "cell_type": "code",
   "execution_count": 1,
   "id": "92982c5b",
   "metadata": {},
   "outputs": [],
   "source": [
    "from powerbiclient import QuickVisualize, get_dataset_config, Report\n",
    "from powerbiclient.authentication import DeviceCodeLoginAuthentication\n",
    "\n",
    "import pandas as pd\n",
    "#Display all columns of dataframe\n",
    "pd.pandas.set_option('display.max_columns',None)"
   ]
  },
  {
   "cell_type": "code",
   "execution_count": 2,
   "id": "cf2e1953",
   "metadata": {},
   "outputs": [
    {
     "name": "stdout",
     "output_type": "stream",
     "text": [
      "Performing device flow authentication. Please follow the instructions below.\n",
      "To sign in, use a web browser to open the page https://microsoft.com/devicelogin and enter the code HQCNSWQ5N to authenticate.\n",
      "\n",
      "Device flow authentication successfully completed.\n",
      "You are now logged in .\n",
      "\n",
      "The result should be passed only to trusted code in your notebook.\n"
     ]
    }
   ],
   "source": [
    "device_auth = DeviceCodeLoginAuthentication()"
   ]
  },
  {
   "cell_type": "code",
   "execution_count": 9,
   "id": "de40a6ca",
   "metadata": {},
   "outputs": [],
   "source": [
    "dataset=pd.read_csv(\"BGTresults.csv\")"
   ]
  },
  {
   "cell_type": "code",
   "execution_count": 10,
   "id": "f46754f6",
   "metadata": {},
   "outputs": [
    {
     "data": {
      "text/html": [
       "<div>\n",
       "<style scoped>\n",
       "    .dataframe tbody tr th:only-of-type {\n",
       "        vertical-align: middle;\n",
       "    }\n",
       "\n",
       "    .dataframe tbody tr th {\n",
       "        vertical-align: top;\n",
       "    }\n",
       "\n",
       "    .dataframe thead th {\n",
       "        text-align: right;\n",
       "    }\n",
       "</style>\n",
       "<table border=\"1\" class=\"dataframe\">\n",
       "  <thead>\n",
       "    <tr style=\"text-align: right;\">\n",
       "      <th></th>\n",
       "      <th>Test Series Year</th>\n",
       "      <th>Test Number</th>\n",
       "      <th>Innings</th>\n",
       "      <th>Venue</th>\n",
       "      <th>Host</th>\n",
       "      <th>Highest Scorer</th>\n",
       "      <th>Team</th>\n",
       "      <th>Runs by highest scorer</th>\n",
       "      <th>best bowler</th>\n",
       "      <th>wickets by best bowler</th>\n",
       "      <th>team total</th>\n",
       "      <th>Winner</th>\n",
       "      <th>Win Margin</th>\n",
       "      <th>MOTM</th>\n",
       "      <th>Ind captain</th>\n",
       "      <th>Aus captain</th>\n",
       "      <th>MOTS</th>\n",
       "      <th>Series Win</th>\n",
       "    </tr>\n",
       "  </thead>\n",
       "  <tbody>\n",
       "    <tr>\n",
       "      <th>0</th>\n",
       "      <td>1996-97</td>\n",
       "      <td>1</td>\n",
       "      <td>1</td>\n",
       "      <td>Delhi</td>\n",
       "      <td>India</td>\n",
       "      <td>Michael Slater</td>\n",
       "      <td>Australia</td>\n",
       "      <td>44</td>\n",
       "      <td>Anil Kumble</td>\n",
       "      <td>4.0</td>\n",
       "      <td>182/10</td>\n",
       "      <td>India</td>\n",
       "      <td>7w</td>\n",
       "      <td>Nayan Mongia</td>\n",
       "      <td>Sachin Tendulkar</td>\n",
       "      <td>Mark Taylor</td>\n",
       "      <td>Nayan Mongia</td>\n",
       "      <td>India</td>\n",
       "    </tr>\n",
       "    <tr>\n",
       "      <th>1</th>\n",
       "      <td>1996-97</td>\n",
       "      <td>1</td>\n",
       "      <td>2</td>\n",
       "      <td>Delhi</td>\n",
       "      <td>India</td>\n",
       "      <td>Nayan Mongia</td>\n",
       "      <td>India</td>\n",
       "      <td>152</td>\n",
       "      <td>Paul Reiffel</td>\n",
       "      <td>3.0</td>\n",
       "      <td>361/10</td>\n",
       "      <td>India</td>\n",
       "      <td>7w</td>\n",
       "      <td>Nayan Mongia</td>\n",
       "      <td>Sachin Tendulkar</td>\n",
       "      <td>Mark Taylor</td>\n",
       "      <td>Nayan Mongia</td>\n",
       "      <td>India</td>\n",
       "    </tr>\n",
       "    <tr>\n",
       "      <th>2</th>\n",
       "      <td>1996-97</td>\n",
       "      <td>1</td>\n",
       "      <td>3</td>\n",
       "      <td>Delhi</td>\n",
       "      <td>India</td>\n",
       "      <td>Steve Waugh</td>\n",
       "      <td>Australia</td>\n",
       "      <td>67</td>\n",
       "      <td>Anil Kumble</td>\n",
       "      <td>5.0</td>\n",
       "      <td>234/10</td>\n",
       "      <td>India</td>\n",
       "      <td>7w</td>\n",
       "      <td>Nayan Mongia</td>\n",
       "      <td>Sachin Tendulkar</td>\n",
       "      <td>Mark Taylor</td>\n",
       "      <td>Nayan Mongia</td>\n",
       "      <td>India</td>\n",
       "    </tr>\n",
       "    <tr>\n",
       "      <th>3</th>\n",
       "      <td>1996-97</td>\n",
       "      <td>1</td>\n",
       "      <td>4</td>\n",
       "      <td>Delhi</td>\n",
       "      <td>India</td>\n",
       "      <td>Mohd. Azharuddin</td>\n",
       "      <td>India</td>\n",
       "      <td>21</td>\n",
       "      <td>Paul Reiffel</td>\n",
       "      <td>2.0</td>\n",
       "      <td>56/3</td>\n",
       "      <td>India</td>\n",
       "      <td>7w</td>\n",
       "      <td>Nayan Mongia</td>\n",
       "      <td>Sachin Tendulkar</td>\n",
       "      <td>Mark Taylor</td>\n",
       "      <td>Nayan Mongia</td>\n",
       "      <td>India</td>\n",
       "    </tr>\n",
       "    <tr>\n",
       "      <th>4</th>\n",
       "      <td>1997-98</td>\n",
       "      <td>1</td>\n",
       "      <td>1</td>\n",
       "      <td>Chennai</td>\n",
       "      <td>India</td>\n",
       "      <td>Navjot Sidhu</td>\n",
       "      <td>India</td>\n",
       "      <td>62</td>\n",
       "      <td>Shane Warne</td>\n",
       "      <td>4.0</td>\n",
       "      <td>257/10</td>\n",
       "      <td>India</td>\n",
       "      <td>179r</td>\n",
       "      <td>Sachin Tendulkar</td>\n",
       "      <td>Mohd. Azharuddin</td>\n",
       "      <td>Mark Taylor</td>\n",
       "      <td>Sachin Tendulkar</td>\n",
       "      <td>India</td>\n",
       "    </tr>\n",
       "  </tbody>\n",
       "</table>\n",
       "</div>"
      ],
      "text/plain": [
       "  Test Series Year  Test Number  Innings    Venue   Host    Highest Scorer  \\\n",
       "0          1996-97            1        1    Delhi  India    Michael Slater   \n",
       "1          1996-97            1        2    Delhi  India      Nayan Mongia   \n",
       "2          1996-97            1        3    Delhi  India       Steve Waugh   \n",
       "3          1996-97            1        4    Delhi  India  Mohd. Azharuddin   \n",
       "4          1997-98            1        1  Chennai  India      Navjot Sidhu   \n",
       "\n",
       "        Team  Runs by highest scorer   best bowler  wickets by best bowler  \\\n",
       "0  Australia                      44   Anil Kumble                     4.0   \n",
       "1      India                     152  Paul Reiffel                     3.0   \n",
       "2  Australia                      67   Anil Kumble                     5.0   \n",
       "3      India                      21  Paul Reiffel                     2.0   \n",
       "4      India                      62   Shane Warne                     4.0   \n",
       "\n",
       "  team total Winner Win Margin              MOTM       Ind captain  \\\n",
       "0     182/10  India         7w      Nayan Mongia  Sachin Tendulkar   \n",
       "1     361/10  India         7w      Nayan Mongia  Sachin Tendulkar   \n",
       "2     234/10  India         7w      Nayan Mongia  Sachin Tendulkar   \n",
       "3       56/3  India         7w      Nayan Mongia  Sachin Tendulkar   \n",
       "4     257/10  India       179r  Sachin Tendulkar  Mohd. Azharuddin   \n",
       "\n",
       "   Aus captain              MOTS Series Win  \n",
       "0  Mark Taylor      Nayan Mongia      India  \n",
       "1  Mark Taylor      Nayan Mongia      India  \n",
       "2  Mark Taylor      Nayan Mongia      India  \n",
       "3  Mark Taylor      Nayan Mongia      India  \n",
       "4  Mark Taylor  Sachin Tendulkar      India  "
      ]
     },
     "execution_count": 10,
     "metadata": {},
     "output_type": "execute_result"
    }
   ],
   "source": [
    "dataset.head()"
   ]
  },
  {
   "cell_type": "code",
   "execution_count": 11,
   "id": "d9ddc35e",
   "metadata": {},
   "outputs": [
    {
     "data": {
      "text/plain": [
       "Test Series Year          0\n",
       "Test Number               0\n",
       "Innings                   0\n",
       "Venue                     0\n",
       "Host                      0\n",
       "Highest Scorer            0\n",
       "Team                      0\n",
       "Runs by highest scorer    0\n",
       "best bowler               0\n",
       "wickets by best bowler    1\n",
       "team total                0\n",
       "Winner                    0\n",
       "Win Margin                0\n",
       "MOTM                      0\n",
       "Ind captain               0\n",
       "Aus captain               0\n",
       "MOTS                      0\n",
       "Series Win                0\n",
       "dtype: int64"
      ]
     },
     "execution_count": 11,
     "metadata": {},
     "output_type": "execute_result"
    }
   ],
   "source": [
    "#finding null vlaues\n",
    "dataset.isnull().sum()"
   ]
  },
  {
   "cell_type": "code",
   "execution_count": 12,
   "id": "28148df9",
   "metadata": {},
   "outputs": [],
   "source": [
    "#selecting columns to visualize the data using PowerBI\n",
    "powerbi_data=dataset[['Highest Scorer','best bowler']]"
   ]
  },
  {
   "cell_type": "code",
   "execution_count": 13,
   "id": "b939aa92",
   "metadata": {},
   "outputs": [],
   "source": [
    "# Create a Power BI report from your data\n",
    "PBI_visualize = QuickVisualize(get_dataset_config(powerbi_data), auth=device_auth)"
   ]
  },
  {
   "cell_type": "code",
   "execution_count": 14,
   "id": "21a4ecde",
   "metadata": {},
   "outputs": [
    {
     "data": {
      "application/vnd.jupyter.widget-view+json": {
       "model_id": "45be0fe6b77c48a3bf52c721f93ec1fc",
       "version_major": 2,
       "version_minor": 0
      },
      "text/plain": [
       "QuickVisualize()"
      ]
     },
     "metadata": {},
     "output_type": "display_data"
    }
   ],
   "source": [
    "PBI_visualize"
   ]
  },
  {
   "cell_type": "code",
   "execution_count": null,
   "id": "f81bc0a1",
   "metadata": {},
   "outputs": [],
   "source": []
  }
 ],
 "metadata": {
  "kernelspec": {
   "display_name": "Python 3",
   "language": "python",
   "name": "python3"
  },
  "language_info": {
   "codemirror_mode": {
    "name": "ipython",
    "version": 3
   },
   "file_extension": ".py",
   "mimetype": "text/x-python",
   "name": "python",
   "nbconvert_exporter": "python",
   "pygments_lexer": "ipython3",
   "version": "3.8.8"
  }
 },
 "nbformat": 4,
 "nbformat_minor": 5
}
